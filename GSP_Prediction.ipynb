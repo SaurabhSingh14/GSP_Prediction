{
 "cells": [
  {
   "cell_type": "markdown",
   "metadata": {
    "id": "n-4CCD8FOtd7"
   },
   "source": [
    "# **Importing the dataset**"
   ]
  },
  {
   "cell_type": "code",
   "execution_count": 1,
   "metadata": {
    "id": "7X7a5iDaN7eA"
   },
   "outputs": [],
   "source": [
    "import pandas as pd\n",
    "dataset_train = pd.read_csv('Google_Stock_Price_Train.csv')\n",
    "dataset_test = pd.read_csv('Google_Stock_Price_Test.csv')"
   ]
  },
  {
   "cell_type": "code",
   "execution_count": 2,
   "metadata": {
    "colab": {
     "base_uri": "https://localhost:8080/"
    },
    "id": "vfjLgPrfPciH",
    "outputId": "bb6db362-1886-4f09-ec03-b6a324c31387"
   },
   "outputs": [
    {
     "name": "stdout",
     "output_type": "stream",
     "text": [
      "       Date        Open        High        Low       Close    Volume\n",
      "0  1/3/2005   98.331429  101.439781  97.365051  100.976517  31807176\n",
      "1  1/4/2005  100.323959  101.086105  96.378746   96.886841  27614921\n",
      "2  1/5/2005   96.363808   98.082359  95.756081   96.393692  16534946\n",
      "3  1/6/2005   97.175758   97.584229  93.509506   93.922951  20852067\n",
      "4  1/7/2005   94.964050   96.762314  94.037521   96.563057  19398238\n"
     ]
    }
   ],
   "source": [
    "print(dataset_train.head())"
   ]
  },
  {
   "cell_type": "markdown",
   "metadata": {
    "id": "rXfRHZdPQ5j8"
   },
   "source": [
    "# **Analysing the dataset**"
   ]
  },
  {
   "cell_type": "markdown",
   "metadata": {
    "id": "qFOpIDTgP6RI"
   },
   "source": [
    "### **Removing unwanted columns**"
   ]
  },
  {
   "cell_type": "code",
   "execution_count": 4,
   "metadata": {
    "id": "_ZP5spRtPdIz"
   },
   "outputs": [],
   "source": [
    "train_data = dataset_train.iloc[:, 1:2].values\n",
    "test_data = dataset_test.iloc[:, 1:2].values"
   ]
  },
  {
   "cell_type": "code",
   "execution_count": 5,
   "metadata": {
    "colab": {
     "base_uri": "https://localhost:8080/"
    },
    "id": "L64kx20XPdMP",
    "outputId": "0828e5b1-d8b4-4b01-fdc1-aba85ba5faa4"
   },
   "outputs": [
    {
     "name": "stdout",
     "output_type": "stream",
     "text": [
      "[[  98.331429]\n",
      " [ 100.323959]\n",
      " [  96.363808]\n",
      " ...\n",
      " [2027.880005]\n",
      " [2057.629883]\n",
      " [2059.120117]]\n"
     ]
    }
   ],
   "source": [
    "print(train_data)"
   ]
  },
  {
   "cell_type": "markdown",
   "metadata": {
    "id": "oXBlVEcjRDDj"
   },
   "source": [
    "### **Dataset size**"
   ]
  },
  {
   "cell_type": "code",
   "execution_count": 6,
   "metadata": {
    "colab": {
     "base_uri": "https://localhost:8080/"
    },
    "id": "PqUj0Q5KQKMr",
    "outputId": "526182b3-5b56-474c-b838-e86f72a12252"
   },
   "outputs": [
    {
     "name": "stdout",
     "output_type": "stream",
     "text": [
      "Training set:  4089\n",
      "Testing set:  21\n"
     ]
    }
   ],
   "source": [
    "print('Training set: ', len(train_data))\n",
    "print('Testing set: ', len(test_data))"
   ]
  },
  {
   "cell_type": "markdown",
   "metadata": {
    "id": "gA6k_9PcQhZ8"
   },
   "source": [
    "### **Checking if there any null values.**"
   ]
  },
  {
   "cell_type": "code",
   "execution_count": 7,
   "metadata": {
    "colab": {
     "base_uri": "https://localhost:8080/"
    },
    "id": "VH2-18O-QKXm",
    "outputId": "959ddeb3-d5fb-41cf-b49c-83bdaba493f9"
   },
   "outputs": [
    {
     "name": "stdout",
     "output_type": "stream",
     "text": [
      "Total null values:  0\n"
     ]
    }
   ],
   "source": [
    "print('Total null values: ', dataset_train['Open'].isnull().sum())"
   ]
  },
  {
   "cell_type": "markdown",
   "metadata": {
    "id": "M32nCR3dRS8B"
   },
   "source": [
    "### **Visualising the Google Stock Opening Price**"
   ]
  },
  {
   "cell_type": "code",
   "execution_count": 8,
   "metadata": {
    "colab": {
     "base_uri": "https://localhost:8080/",
     "height": 390
    },
    "id": "xp_HE9VHQKZJ",
    "outputId": "84710eb7-bc79-4694-eb91-ae895761e1ea"
   },
   "outputs": [
    {
     "data": {
      "image/png": "[encoded data removed]",
      "text/plain": [
       "<Figure size 720x432 with 1 Axes>"
      ]
     },
     "metadata": {
      "needs_background": "light",
      "tags": []
     },
     "output_type": "display_data"
    }
   ],
   "source": [
    "import matplotlib.pyplot as plt\n",
    "plt.figure(figsize=(10,6))\n",
    "plt.title('Google Stock Price')\n",
    "plt.plot(dataset_train['Open'])\n",
    "plt.show()"
   ]
  },
  {
   "cell_type": "markdown",
   "metadata": {
    "id": "8D9f3zv4R7sB"
   },
   "source": [
    "# **Feature Scaling**"
   ]
  },
  {
   "cell_type": "code",
   "execution_count": 9,
   "metadata": {
    "id": "80TC8o8qQKcE"
   },
   "outputs": [],
   "source": [
    "from sklearn.preprocessing import MinMaxScaler\n",
    "sc = MinMaxScaler(feature_range = (0,1))\n",
    "sc_train_data = sc.fit_transform(train_data)"
   ]
  },
  {
   "cell_type": "markdown",
   "metadata": {
    "id": "iMhcSH13SLBt"
   },
   "source": [
    "# **Creating data structure with 150 timesteps and 1 output**"
   ]
  },
  {
   "cell_type": "code",
   "execution_count": 10,
   "metadata": {
    "id": "zGT52InHQKeY"
   },
   "outputs": [],
   "source": [
    "import numpy as np\n",
    "X_train = []\n",
    "y_train = []\n",
    "for i in range(150, len(train_data)):\n",
    "    X_train.append(sc_train_data[i-150:i, 0])\n",
    "    y_train.append(sc_train_data[i, 0])\n",
    "X_train, y_train = np.array(X_train), np.array(y_train)"
   ]
  },
  {
   "cell_type": "code",
   "execution_count": 11,
   "metadata": {
    "colab": {
     "base_uri": "https://localhost:8080/"
    },
    "id": "QdFhib2fQKg-",
    "outputId": "c5ed56cb-a80d-4505-a5bc-ae8f9d40d33d"
   },
   "outputs": [
    {
     "name": "stdout",
     "output_type": "stream",
     "text": [
      "[[0.00541783 0.00639843 0.00444948 ... 0.03007997 0.02947935 0.02995739]\n",
      " [0.00639843 0.00444948 0.00484908 ... 0.02947935 0.02995739 0.0290013 ]\n",
      " [0.00444948 0.00484908 0.00376061 ... 0.02995739 0.0290013  0.02859926]\n",
      " ...\n",
      " [0.73314269 0.74148442 0.73562303 ... 0.97347377 0.96335537 0.96042711]\n",
      " [0.74148442 0.73562303 0.74838422 ... 0.96335537 0.96042711 0.95502343]\n",
      " [0.73562303 0.74838422 0.77086514 ... 0.96042711 0.95502343 0.9696645 ]]\n"
     ]
    }
   ],
   "source": [
    "print(X_train)"
   ]
  },
  {
   "cell_type": "code",
   "execution_count": 12,
   "metadata": {
    "colab": {
     "base_uri": "https://localhost:8080/"
    },
    "id": "2KxM3gdnQKjn",
    "outputId": "0b71070a-4052-44e2-8f98-cd768889abc4"
   },
   "outputs": [
    {
     "name": "stdout",
     "output_type": "stream",
     "text": [
      "[0.0290013  0.02859926 0.02843746 ... 0.95502343 0.9696645  0.9703979 ]\n"
     ]
    }
   ],
   "source": [
    "print(y_train)"
   ]
  },
  {
   "cell_type": "markdown",
   "metadata": {
    "id": "y_Udnq05Sd_6"
   },
   "source": [
    "# **Reshaping to train in RNN**"
   ]
  },
  {
   "cell_type": "code",
   "execution_count": 13,
   "metadata": {
    "id": "HxWTBO4FQKlu"
   },
   "outputs": [],
   "source": [
    "X_train = np.reshape(X_train, (X_train.shape[0], X_train.shape[1], 1))"
   ]
  },
  {
   "cell_type": "markdown",
   "metadata": {
    "id": "3e7JCH8DSr_w"
   },
   "source": [
    "# **Building and training the RNN**"
   ]
  },
  {
   "cell_type": "markdown",
   "metadata": {
    "id": "xMLC2LMhS-6j"
   },
   "source": [
    "### **Importing the libraries**"
   ]
  },
  {
   "cell_type": "code",
   "execution_count": 14,
   "metadata": {
    "id": "I1XuN2EYQKoR"
   },
   "outputs": [],
   "source": [
    "from keras.models import Sequential\n",
    "from keras.layers import Dense\n",
    "from keras.layers import LSTM\n",
    "from keras.layers import Dropout"
   ]
  },
  {
   "cell_type": "markdown",
   "metadata": {
    "id": "9DbNfjnnTKbv"
   },
   "source": [
    "### **Initialising the RNN**"
   ]
  },
  {
   "cell_type": "code",
   "execution_count": 16,
   "metadata": {
    "id": "o6fuDHWWQKqM"
   },
   "outputs": [],
   "source": [
    "regressor = Sequential()"
   ]
  },
  {
   "cell_type": "markdown",
   "metadata": {
    "id": "XqYY2SwLTcAm"
   },
   "source": [
    "### **Adding LSTM layers with some dropout regularisation**"
   ]
  },
  {
   "cell_type": "code",
   "execution_count": 17,
   "metadata": {
    "id": "RI3fKQLlQKsV"
   },
   "outputs": [],
   "source": [
    "# 1st layer\n",
    "regressor.add(LSTM(units = 60, return_sequences = True, input_shape = (X_train.shape[1], 1)))\n",
    "regressor.add(Dropout(0.2))\n",
    "\n",
    "# 2nd layer\n",
    "regressor.add(LSTM(units = 60, return_sequences = True))\n",
    "regressor.add(Dropout(0.2))\n",
    "\n",
    "# 3rd layer\n",
    "regressor.add(LSTM(units = 60, return_sequences = True))\n",
    "regressor.add(Dropout(0.2))\n",
    "\n",
    "# 4th layer\n",
    "regressor.add(LSTM(units = 60))\n",
    "regressor.add(Dropout(0.2))"
   ]
  },
  {
   "cell_type": "markdown",
   "metadata": {
    "id": "ZrX__zq7UNcq"
   },
   "source": [
    "### **Adding the output layer**"
   ]
  },
  {
   "cell_type": "code",
   "execution_count": 18,
   "metadata": {
    "id": "7CK0bO44ThnJ"
   },
   "outputs": [],
   "source": [
    "regressor.add(Dense(units = 1))"
   ]
  },
  {
   "cell_type": "markdown",
   "metadata": {
    "id": "PlBgiBQEUjQm"
   },
   "source": [
    "### **Compiling the RNN**"
   ]
  },
  {
   "cell_type": "code",
   "execution_count": 19,
   "metadata": {
    "id": "zbeRDa--ThpL"
   },
   "outputs": [],
   "source": [
    "regressor.compile(optimizer='adam', loss='mean_squared_error')"
   ]
  },
  {
   "cell_type": "markdown",
   "metadata": {
    "id": "P-hLyn8yU-wr"
   },
   "source": [
    "### **Fitting the training data into RNN**"
   ]
  },
  {
   "cell_type": "code",
   "execution_count": 20,
   "metadata": {
    "colab": {
     "base_uri": "https://localhost:8080/"
    },
    "id": "_blChGyoU6WK",
    "outputId": "23925063-40d4-4aa8-8050-420cc6e26e12"
   },
   "outputs": [
    {
     "name": "stdout",
     "output_type": "stream",
     "text": [
      "Epoch 1/100\n",
      "124/124 [==============================] - 39s 266ms/step - loss: 0.0190\n",
      "Epoch 2/100\n",
      "124/124 [==============================] - 34s 272ms/step - loss: 0.0013\n",
      "Epoch 3/100\n",
      "124/124 [==============================] - 34s 271ms/step - loss: 0.0015\n",
      "Epoch 4/100\n",
      "124/124 [==============================] - 34s 273ms/step - loss: 0.0012\n",
      "Epoch 5/100\n",
      "124/124 [==============================] - 34s 272ms/step - loss: 0.0020\n",
      "Epoch 6/100\n",
      "124/124 [==============================] - 34s 272ms/step - loss: 0.0010\n",
      "Epoch 7/100\n",
      "124/124 [==============================] - 34s 273ms/step - loss: 0.0013\n",
      "Epoch 8/100\n",
      "124/124 [==============================] - 34s 273ms/step - loss: 0.0012\n",
      "Epoch 9/100\n",
      "124/124 [==============================] - 34s 272ms/step - loss: 7.8465e-04\n",
      "Epoch 10/100\n",
      "124/124 [==============================] - 34s 273ms/step - loss: 8.9395e-04\n",
      "Epoch 11/100\n",
      "124/124 [==============================] - 34s 272ms/step - loss: 0.0011\n",
      "Epoch 12/100\n",
      "124/124 [==============================] - 34s 273ms/step - loss: 6.9314e-04\n",
      "Epoch 13/100\n",
      "124/124 [==============================] - 34s 273ms/step - loss: 7.8943e-04\n",
      "Epoch 14/100\n",
      "124/124 [==============================] - 34s 272ms/step - loss: 6.3561e-04\n",
      "Epoch 15/100\n",
      "124/124 [==============================] - 34s 271ms/step - loss: 6.2594e-04\n",
      "Epoch 16/100\n",
      "124/124 [==============================] - 34s 273ms/step - loss: 7.3162e-04\n",
      "Epoch 17/100\n",
      "124/124 [==============================] - 34s 272ms/step - loss: 6.6864e-04\n",
      "Epoch 18/100\n",
      "124/124 [==============================] - 34s 273ms/step - loss: 6.8022e-04\n",
      "Epoch 19/100\n",
      "124/124 [==============================] - 34s 272ms/step - loss: 6.3434e-04\n",
      "Epoch 20/100\n",
      "124/124 [==============================] - 34s 271ms/step - loss: 6.3462e-04\n",
      "Epoch 21/100\n",
      "124/124 [==============================] - 34s 271ms/step - loss: 6.7881e-04\n",
      "Epoch 22/100\n",
      "124/124 [==============================] - 34s 271ms/step - loss: 6.0622e-04\n",
      "Epoch 23/100\n",
      "124/124 [==============================] - 34s 271ms/step - loss: 5.9581e-04\n",
      "Epoch 24/100\n",
      "124/124 [==============================] - 34s 272ms/step - loss: 5.9670e-04\n",
      "Epoch 25/100\n",
      "124/124 [==============================] - 34s 272ms/step - loss: 7.2638e-04\n",
      "Epoch 26/100\n",
      "124/124 [==============================] - 34s 272ms/step - loss: 5.9571e-04\n",
      "Epoch 27/100\n",
      "124/124 [==============================] - 34s 271ms/step - loss: 7.0756e-04\n",
      "Epoch 28/100\n",
      "124/124 [==============================] - 33s 270ms/step - loss: 5.4124e-04\n",
      "Epoch 29/100\n",
      "124/124 [==============================] - 34s 272ms/step - loss: 5.2537e-04\n",
      "Epoch 30/100\n",
      "124/124 [==============================] - 34s 272ms/step - loss: 6.8465e-04\n",
      "Epoch 31/100\n",
      "124/124 [==============================] - 34s 271ms/step - loss: 6.0447e-04\n",
      "Epoch 32/100\n",
      "124/124 [==============================] - 34s 272ms/step - loss: 4.9648e-04\n",
      "Epoch 33/100\n",
      "124/124 [==============================] - 34s 271ms/step - loss: 6.0416e-04\n",
      "Epoch 34/100\n",
      "124/124 [==============================] - 34s 271ms/step - loss: 5.5153e-04\n",
      "Epoch 35/100\n",
      "124/124 [==============================] - 34s 271ms/step - loss: 5.1256e-04\n",
      "Epoch 36/100\n",
      "124/124 [==============================] - 34s 271ms/step - loss: 5.4386e-04\n",
      "Epoch 37/100\n",
      "124/124 [==============================] - 34s 272ms/step - loss: 4.8419e-04\n",
      "Epoch 38/100\n",
      "124/124 [==============================] - 34s 272ms/step - loss: 5.7955e-04\n",
      "Epoch 39/100\n",
      "124/124 [==============================] - 34s 273ms/step - loss: 5.2009e-04\n",
      "Epoch 40/100\n",
      "124/124 [==============================] - 34s 272ms/step - loss: 7.0628e-04\n",
      "Epoch 41/100\n",
      "124/124 [==============================] - 34s 272ms/step - loss: 5.6775e-04\n",
      "Epoch 42/100\n",
      "124/124 [==============================] - 34s 272ms/step - loss: 4.9517e-04\n",
      "Epoch 43/100\n",
      "124/124 [==============================] - 34s 271ms/step - loss: 5.5876e-04\n",
      "Epoch 44/100\n",
      "124/124 [==============================] - 34s 271ms/step - loss: 5.3201e-04\n",
      "Epoch 45/100\n",
      "124/124 [==============================] - 34s 272ms/step - loss: 4.7357e-04\n",
      "Epoch 46/100\n",
      "124/124 [==============================] - 34s 272ms/step - loss: 5.0553e-04\n",
      "Epoch 47/100\n",
      "124/124 [==============================] - 34s 273ms/step - loss: 6.0706e-04\n",
      "Epoch 48/100\n",
      "124/124 [==============================] - 34s 272ms/step - loss: 4.9627e-04\n",
      "Epoch 49/100\n",
      "124/124 [==============================] - 34s 272ms/step - loss: 4.9945e-04\n",
      "Epoch 50/100\n",
      "124/124 [==============================] - 34s 272ms/step - loss: 5.6319e-04\n",
      "Epoch 51/100\n",
      "124/124 [==============================] - 34s 271ms/step - loss: 5.6833e-04\n",
      "Epoch 52/100\n",
      "124/124 [==============================] - 34s 271ms/step - loss: 5.1384e-04\n",
      "Epoch 53/100\n",
      "124/124 [==============================] - 34s 272ms/step - loss: 5.2107e-04\n",
      "Epoch 54/100\n",
      "124/124 [==============================] - 34s 271ms/step - loss: 5.4004e-04\n",
      "Epoch 55/100\n",
      "124/124 [==============================] - 34s 271ms/step - loss: 5.2214e-04\n",
      "Epoch 56/100\n",
      "124/124 [==============================] - 34s 272ms/step - loss: 4.5315e-04\n",
      "Epoch 57/100\n",
      "124/124 [==============================] - 34s 272ms/step - loss: 4.5719e-04\n",
      "Epoch 58/100\n",
      "124/124 [==============================] - 34s 272ms/step - loss: 4.4770e-04\n",
      "Epoch 59/100\n",
      "124/124 [==============================] - 34s 272ms/step - loss: 4.2978e-04\n",
      "Epoch 60/100\n",
      "124/124 [==============================] - 34s 272ms/step - loss: 4.7197e-04\n",
      "Epoch 61/100\n",
      "124/124 [==============================] - 34s 272ms/step - loss: 5.4542e-04\n",
      "Epoch 62/100\n",
      "124/124 [==============================] - 33s 269ms/step - loss: 4.6803e-04\n",
      "Epoch 63/100\n",
      "124/124 [==============================] - 33s 269ms/step - loss: 5.4008e-04\n",
      "Epoch 64/100\n",
      "124/124 [==============================] - 33s 268ms/step - loss: 4.9132e-04\n",
      "Epoch 65/100\n",
      "124/124 [==============================] - 33s 269ms/step - loss: 0.0014\n",
      "Epoch 66/100\n",
      "124/124 [==============================] - 33s 269ms/step - loss: 4.2990e-04\n",
      "Epoch 67/100\n",
      "124/124 [==============================] - 33s 268ms/step - loss: 4.5335e-04\n",
      "Epoch 68/100\n",
      "124/124 [==============================] - 33s 269ms/step - loss: 4.8762e-04\n",
      "Epoch 69/100\n",
      "124/124 [==============================] - 33s 270ms/step - loss: 4.7103e-04\n",
      "Epoch 70/100\n",
      "124/124 [==============================] - 33s 270ms/step - loss: 4.8369e-04\n",
      "Epoch 71/100\n",
      "124/124 [==============================] - 33s 269ms/step - loss: 4.7202e-04\n",
      "Epoch 72/100\n",
      "124/124 [==============================] - 33s 269ms/step - loss: 6.2625e-04\n",
      "Epoch 73/100\n",
      "124/124 [==============================] - 33s 269ms/step - loss: 4.1410e-04\n",
      "Epoch 74/100\n",
      "124/124 [==============================] - 33s 269ms/step - loss: 4.3920e-04\n",
      "Epoch 75/100\n",
      "124/124 [==============================] - 33s 268ms/step - loss: 4.2774e-04\n",
      "Epoch 76/100\n",
      "124/124 [==============================] - 33s 269ms/step - loss: 5.3685e-04\n",
      "Epoch 77/100\n",
      "124/124 [==============================] - 33s 269ms/step - loss: 4.4184e-04\n",
      "Epoch 78/100\n",
      "124/124 [==============================] - 33s 268ms/step - loss: 8.4752e-04\n",
      "Epoch 79/100\n",
      "124/124 [==============================] - 33s 267ms/step - loss: 5.5194e-04\n",
      "Epoch 80/100\n",
      "124/124 [==============================] - 33s 268ms/step - loss: 4.6490e-04\n",
      "Epoch 81/100\n",
      "124/124 [==============================] - 33s 268ms/step - loss: 4.0123e-04\n",
      "Epoch 82/100\n",
      "124/124 [==============================] - 33s 269ms/step - loss: 3.9488e-04\n",
      "Epoch 83/100\n",
      "124/124 [==============================] - 33s 268ms/step - loss: 4.3519e-04\n",
      "Epoch 84/100\n",
      "124/124 [==============================] - 33s 268ms/step - loss: 5.1772e-04\n",
      "Epoch 85/100\n",
      "124/124 [==============================] - 33s 268ms/step - loss: 4.5248e-04\n",
      "Epoch 86/100\n",
      "124/124 [==============================] - 33s 268ms/step - loss: 5.2114e-04\n",
      "Epoch 87/100\n",
      "124/124 [==============================] - 33s 268ms/step - loss: 3.8104e-04\n",
      "Epoch 88/100\n",
      "124/124 [==============================] - 33s 269ms/step - loss: 4.7105e-04\n",
      "Epoch 89/100\n",
      "124/124 [==============================] - 33s 268ms/step - loss: 4.2013e-04\n",
      "Epoch 90/100\n",
      "124/124 [==============================] - 33s 267ms/step - loss: 4.5461e-04\n",
      "Epoch 91/100\n",
      "124/124 [==============================] - 33s 267ms/step - loss: 4.8308e-04\n",
      "Epoch 92/100\n",
      "124/124 [==============================] - 33s 268ms/step - loss: 4.4733e-04\n",
      "Epoch 93/100\n",
      "124/124 [==============================] - 33s 267ms/step - loss: 4.3676e-04\n",
      "Epoch 94/100\n",
      "124/124 [==============================] - 33s 267ms/step - loss: 3.8728e-04\n",
      "Epoch 95/100\n",
      "124/124 [==============================] - 33s 268ms/step - loss: 4.2338e-04\n",
      "Epoch 96/100\n",
      "124/124 [==============================] - 33s 267ms/step - loss: 4.7576e-04\n",
      "Epoch 97/100\n",
      "124/124 [==============================] - 33s 267ms/step - loss: 3.6691e-04\n",
      "Epoch 98/100\n",
      "124/124 [==============================] - 33s 267ms/step - loss: 4.0267e-04\n",
      "Epoch 99/100\n",
      "124/124 [==============================] - 33s 267ms/step - loss: 3.9286e-04\n",
      "Epoch 100/100\n",
      "124/124 [==============================] - 33s 268ms/step - loss: 3.7983e-04\n"
     ]
    },
    {
     "data": {
      "text/plain": [
       "<tensorflow.python.keras.callbacks.History at 0x7f654f5f87d0>"
      ]
     },
     "execution_count": 20,
     "metadata": {
      "tags": []
     },
     "output_type": "execute_result"
    }
   ],
   "source": [
    "regressor.fit(X_train, y_train, epochs=100, batch_size=32)"
   ]
  },
  {
   "cell_type": "markdown",
   "metadata": {
    "id": "Cc6X1LtIiroG"
   },
   "source": [
    "### **Making predictions**"
   ]
  },
  {
   "cell_type": "code",
   "execution_count": 22,
   "metadata": {
    "id": "skchmT1EU6bs"
   },
   "outputs": [],
   "source": [
    "dataset = pd.concat((dataset_train['Open'], dataset_test['Open']), axis=0)"
   ]
  },
  {
   "cell_type": "code",
   "execution_count": 35,
   "metadata": {
    "id": "9Z8UEXXQjbhP"
   },
   "outputs": [],
   "source": [
    "inputs = dataset[len(dataset)-len(dataset_test)-150:].values\n",
    "inputs = inputs.reshape(-1,1)\n",
    "inputs = sc.transform(inputs)       #Feature Scaling"
   ]
  },
  {
   "cell_type": "code",
   "execution_count": 36,
   "metadata": {
    "id": "3ojQTeajn8e2"
   },
   "outputs": [],
   "source": [
    "X_test = []\n",
    "for i in range(150, 171):\n",
    "  X_test.append(inputs[i-150:i, 0])     #Data Structure\n",
    "X_test = np.array(X_test)\n",
    "X_test = np.reshape(X_test, (X_test.shape[0], X_test.shape[1], 1))    #Reshaping"
   ]
  },
  {
   "cell_type": "code",
   "execution_count": 37,
   "metadata": {
    "id": "FWA7g4Irn8m-"
   },
   "outputs": [],
   "source": [
    "prediction = regressor.predict(X_test)\n",
    "prediction = sc.inverse_transform(prediction)"
   ]
  },
  {
   "cell_type": "markdown",
   "metadata": {
    "id": "K5-YHFKBp4vS"
   },
   "source": [
    "# **Visualising Real and Predicted Google Stock Prices pattern**"
   ]
  },
  {
   "cell_type": "code",
   "execution_count": 41,
   "metadata": {
    "colab": {
     "base_uri": "https://localhost:8080/",
     "height": 404
    },
    "id": "ebQXwVcrn8o1",
    "outputId": "e4048b48-1b6d-4dbf-ad4e-6307bca08c88"
   },
   "outputs": [
    {
     "data": {
      "image/png": "[encoded data removed]",
      "text/plain": [
       "<Figure size 720x432 with 1 Axes>"
      ]
     },
     "metadata": {
      "needs_background": "light",
      "tags": []
     },
     "output_type": "display_data"
    }
   ],
   "source": [
    "plt.figure(figsize=(10,6))\n",
    "plt.plot(test_data, color = 'red', label = 'Real Google Stock Price')\n",
    "plt.plot(prediction, color = 'blue', label = 'Predicted Google Stock Price')\n",
    "plt.title('Google Stock Price Prediction')\n",
    "plt.xlabel('Time')\n",
    "plt.ylabel('Google Stock Price')\n",
    "plt.legend()\n",
    "plt.show()"
   ]
  }
 ],
 "metadata": {
  "colab": {
   "collapsed_sections": [],
   "name": "RNN.ipynb",
   "provenance": []
  },
  "kernelspec": {
   "display_name": "Python 3",
   "language": "python",
   "name": "python3"
  },
  "language_info": {
   "codemirror_mode": {
    "name": "ipython",
    "version": 3
   },
   "file_extension": ".py",
   "mimetype": "text/x-python",
   "name": "python",
   "nbconvert_exporter": "python",
   "pygments_lexer": "ipython3",
   "version": "3.8.8"
  }
 },
 "nbformat": 4,
 "nbformat_minor": 1
}
